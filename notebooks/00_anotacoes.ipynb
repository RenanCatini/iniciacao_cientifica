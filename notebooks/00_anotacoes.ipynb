{
 "cells": [
  {
   "cell_type": "code",
   "execution_count": null,
   "id": "850ac5ac",
   "metadata": {},
   "outputs": [],
   "source": [
    "# Importar caminho\n",
    "import os\n",
    "import sys\n",
    "# Adicionando o diretório-raiz do projeto ao sys.path\n",
    "sys.path.append(os.path.abspath(os.path.join(os.getcwd(), '..')))"
   ]
  },
  {
   "cell_type": "code",
   "execution_count": null,
   "id": "580bf8df",
   "metadata": {},
   "outputs": [],
   "source": [
    "# Salvar modelo em models\n",
    "import joblib\n",
    "\n",
    "caminho_modelo = f\"../models/{_}.pkl\"\n",
    "joblib.dump(_, caminho_modelo)\n",
    "\n",
    "print(f\"Modelo salvo em: {caminho_modelo}\")"
   ]
  },
  {
   "cell_type": "code",
   "execution_count": null,
   "id": "a4b80247",
   "metadata": {},
   "outputs": [],
   "source": [
    "# Usar modelo já treinado\n",
    "import joblib\n",
    "\n",
    "# Carregando o modelo salvo da pasta models/\n",
    "modelo_carregado = joblib.load('models/nome.pkl')\n",
    "\n",
    "# Agora você pode usar o modelo para fazer previsões\n",
    "previsoes = modelo_carregado.predict(x_test)"
   ]
  }
 ],
 "metadata": {
  "kernelspec": {
   "display_name": "Python 3",
   "language": "python",
   "name": "python3"
  },
  "language_info": {
   "codemirror_mode": {
    "name": "ipython",
    "version": 3
   },
   "file_extension": ".py",
   "mimetype": "text/x-python",
   "name": "python",
   "nbconvert_exporter": "python",
   "pygments_lexer": "ipython3",
   "version": "3.12.2"
  }
 },
 "nbformat": 4,
 "nbformat_minor": 5
}
