{
 "cells": [
  {
   "cell_type": "markdown",
   "id": "e10bc478",
   "metadata": {},
   "source": [
    "# Analise das informações da tabela de Dados Finais"
   ]
  },
  {
   "cell_type": "code",
   "execution_count": null,
   "id": "62ee028e",
   "metadata": {},
   "outputs": [],
   "source": [
    "# Caminho base de dados\n",
    "path_dados = \"C:/Users/renan/Arquivos Unifal/iniciacao_cientifica/data/processed/Dados_Arritimia_final.csv\""
   ]
  },
  {
   "cell_type": "code",
   "execution_count": 2,
   "id": "e2cc6bbc",
   "metadata": {},
   "outputs": [
    {
     "name": "stdout",
     "output_type": "stream",
     "text": [
      "<class 'pandas.core.frame.DataFrame'>\n",
      "RangeIndex: 104970 entries, 0 to 104969\n",
      "Data columns (total 11 columns):\n",
      " #   Column             Non-Null Count   Dtype  \n",
      "---  ------             --------------   -----  \n",
      " 0   Registro           104970 non-null  int64  \n",
      " 1   Canal (Derivação)  104970 non-null  object \n",
      " 2   Sexo               104970 non-null  object \n",
      " 3   Idade              100742 non-null  float64\n",
      " 4   Medicamentos       104970 non-null  object \n",
      " 5   Tipo               100634 non-null  object \n",
      " 6   Atributo_1         104970 non-null  float64\n",
      " 7   Indicador_Zero     104970 non-null  bool   \n",
      " 8   Rotulos            104970 non-null  object \n",
      " 9   Rotulos_Nome       95617 non-null   object \n",
      " 10  Padrao_AAMI        95530 non-null   object \n",
      "dtypes: bool(1), float64(2), int64(1), object(7)\n",
      "memory usage: 8.1+ MB\n"
     ]
    },
    {
     "data": {
      "text/plain": [
       "None"
      ]
     },
     "metadata": {},
     "output_type": "display_data"
    },
    {
     "data": {
      "text/html": [
       "<div>\n",
       "<style scoped>\n",
       "    .dataframe tbody tr th:only-of-type {\n",
       "        vertical-align: middle;\n",
       "    }\n",
       "\n",
       "    .dataframe tbody tr th {\n",
       "        vertical-align: top;\n",
       "    }\n",
       "\n",
       "    .dataframe thead th {\n",
       "        text-align: right;\n",
       "    }\n",
       "</style>\n",
       "<table border=\"1\" class=\"dataframe\">\n",
       "  <thead>\n",
       "    <tr style=\"text-align: right;\">\n",
       "      <th></th>\n",
       "      <th>Registro</th>\n",
       "      <th>Canal (Derivação)</th>\n",
       "      <th>Sexo</th>\n",
       "      <th>Idade</th>\n",
       "      <th>Medicamentos</th>\n",
       "      <th>Tipo</th>\n",
       "      <th>Atributo_1</th>\n",
       "      <th>Indicador_Zero</th>\n",
       "      <th>Rotulos</th>\n",
       "      <th>Rotulos_Nome</th>\n",
       "      <th>Padrao_AAMI</th>\n",
       "    </tr>\n",
       "  </thead>\n",
       "  <tbody>\n",
       "    <tr>\n",
       "      <th>0</th>\n",
       "      <td>100</td>\n",
       "      <td>MLII</td>\n",
       "      <td>masculino</td>\n",
       "      <td>69.0</td>\n",
       "      <td>['Aldomet', 'Inderal']</td>\n",
       "      <td>Teste</td>\n",
       "      <td>0.000000</td>\n",
       "      <td>True</td>\n",
       "      <td>N</td>\n",
       "      <td>Normal beat</td>\n",
       "      <td>N</td>\n",
       "    </tr>\n",
       "    <tr>\n",
       "      <th>1</th>\n",
       "      <td>100</td>\n",
       "      <td>MLII</td>\n",
       "      <td>masculino</td>\n",
       "      <td>69.0</td>\n",
       "      <td>['Aldomet', 'Inderal']</td>\n",
       "      <td>Teste</td>\n",
       "      <td>-0.041081</td>\n",
       "      <td>False</td>\n",
       "      <td>N</td>\n",
       "      <td>Normal beat</td>\n",
       "      <td>N</td>\n",
       "    </tr>\n",
       "    <tr>\n",
       "      <th>2</th>\n",
       "      <td>100</td>\n",
       "      <td>MLII</td>\n",
       "      <td>masculino</td>\n",
       "      <td>69.0</td>\n",
       "      <td>['Aldomet', 'Inderal']</td>\n",
       "      <td>Teste</td>\n",
       "      <td>-0.184895</td>\n",
       "      <td>False</td>\n",
       "      <td>N</td>\n",
       "      <td>Normal beat</td>\n",
       "      <td>N</td>\n",
       "    </tr>\n",
       "    <tr>\n",
       "      <th>3</th>\n",
       "      <td>100</td>\n",
       "      <td>MLII</td>\n",
       "      <td>masculino</td>\n",
       "      <td>69.0</td>\n",
       "      <td>['Aldomet', 'Inderal']</td>\n",
       "      <td>Teste</td>\n",
       "      <td>-0.302514</td>\n",
       "      <td>False</td>\n",
       "      <td>N</td>\n",
       "      <td>Normal beat</td>\n",
       "      <td>N</td>\n",
       "    </tr>\n",
       "    <tr>\n",
       "      <th>4</th>\n",
       "      <td>100</td>\n",
       "      <td>MLII</td>\n",
       "      <td>masculino</td>\n",
       "      <td>69.0</td>\n",
       "      <td>['Aldomet', 'Inderal']</td>\n",
       "      <td>Teste</td>\n",
       "      <td>-0.225126</td>\n",
       "      <td>False</td>\n",
       "      <td>N</td>\n",
       "      <td>Normal beat</td>\n",
       "      <td>N</td>\n",
       "    </tr>\n",
       "  </tbody>\n",
       "</table>\n",
       "</div>"
      ],
      "text/plain": [
       "   Registro Canal (Derivação)       Sexo  Idade            Medicamentos  \\\n",
       "0       100              MLII  masculino   69.0  ['Aldomet', 'Inderal']   \n",
       "1       100              MLII  masculino   69.0  ['Aldomet', 'Inderal']   \n",
       "2       100              MLII  masculino   69.0  ['Aldomet', 'Inderal']   \n",
       "3       100              MLII  masculino   69.0  ['Aldomet', 'Inderal']   \n",
       "4       100              MLII  masculino   69.0  ['Aldomet', 'Inderal']   \n",
       "\n",
       "    Tipo  Atributo_1  Indicador_Zero Rotulos Rotulos_Nome Padrao_AAMI  \n",
       "0  Teste    0.000000            True       N  Normal beat           N  \n",
       "1  Teste   -0.041081           False       N  Normal beat           N  \n",
       "2  Teste   -0.184895           False       N  Normal beat           N  \n",
       "3  Teste   -0.302514           False       N  Normal beat           N  \n",
       "4  Teste   -0.225126           False       N  Normal beat           N  "
      ]
     },
     "metadata": {},
     "output_type": "display_data"
    }
   ],
   "source": [
    "import pandas as pd\n",
    "\n",
    "dados = pd.read_csv(path_dados)\n",
    "\n",
    "#Remover colunas indesejadas\n",
    "colunas_para_remover = [f\"Atributo_{i}\" for i in range(2,301)]\n",
    "dados_sem_atributo = dados.drop(columns=colunas_para_remover, errors='ignore')\n",
    "\n",
    "\n",
    "display(dados_sem_atributo.info())\n",
    "display(dados_sem_atributo.head())\n"
   ]
  },
  {
   "cell_type": "code",
   "execution_count": 3,
   "id": "3b78e1a2",
   "metadata": {},
   "outputs": [
    {
     "name": "stdout",
     "output_type": "stream",
     "text": [
      "Padrao_AAMI\n",
      "N    87404\n",
      "V     3564\n",
      "S     2683\n",
      "Q     1286\n",
      "F      593\n",
      "Name: count, dtype: int64\n",
      "count     95530\n",
      "unique        5\n",
      "top           N\n",
      "freq      87404\n",
      "Name: Padrao_AAMI, dtype: object\n",
      "\n",
      "\n",
      "Rotulos\n",
      "N               72218\n",
      "Desconhecido     9353\n",
      "L                7688\n",
      "R                7254\n",
      "V                3556\n",
      "A                2533\n",
      "/                1069\n",
      "F                 593\n",
      "j                 228\n",
      "f                 211\n",
      "J                  83\n",
      "!                  70\n",
      "a                  65\n",
      "|                  17\n",
      "e                  16\n",
      "E                   8\n",
      "Q                   6\n",
      "S                   2\n",
      "Name: count, dtype: int64\n",
      "count     104970\n",
      "unique        18\n",
      "top            N\n",
      "freq       72218\n",
      "Name: Rotulos, dtype: object\n",
      "\n",
      "\n"
     ]
    }
   ],
   "source": [
    "# Analise de algumas colunas em específico\n",
    "def analise_coluna(coluna):\n",
    "    try:\n",
    "        print(dados_sem_atributo[coluna].value_counts())\n",
    "        print(dados_sem_atributo[coluna].describe())\n",
    "        print(\"\\n\")\n",
    "    except:\n",
    "        print(\"Coluna inexistente. \\n\")\n",
    "\n",
    "# Colunas interessantes a serem perguntadas\n",
    "# analise_coluna('Registro')\n",
    "# analise_coluna('Canal (Derivação)')\n",
    "# analise_coluna('Tipo')\n",
    "# analise_coluna('Sexo')\n",
    "# analise_coluna('Indicador_Zero')\n",
    "\n",
    "analise_coluna('Padrao_AAMI')\n",
    "analise_coluna('Rotulos')\n"
   ]
  },
  {
   "cell_type": "code",
   "execution_count": null,
   "id": "a27998d5",
   "metadata": {},
   "outputs": [
    {
     "data": {
      "image/png": "[encoded data removed]",
      "text/plain": [
       "<Figure size 640x480 with 1 Axes>"
      ]
     },
     "metadata": {},
     "output_type": "display_data"
    }
   ],
   "source": [
    "#Plotar gráfico do batimento\n",
    "import Analise.minhas_funcoes as minhas_funcoes\n",
    "from matplotlib import pyplot as plt\n",
    "colunas = [f\"Atributo_{i}\" for i in range(1,300)]\n",
    "\n",
    "minhas_funcoes.grafico_simples(dados, 7145, colunas)"
   ]
  }
 ],
 "metadata": {
  "kernelspec": {
   "display_name": "Python 3",
   "language": "python",
   "name": "python3"
  },
  "language_info": {
   "codemirror_mode": {
    "name": "ipython",
    "version": 3
   },
   "file_extension": ".py",
   "mimetype": "text/x-python",
   "name": "python",
   "nbconvert_exporter": "python",
   "pygments_lexer": "ipython3",
   "version": "3.12.2"
  }
 },
 "nbformat": 4,
 "nbformat_minor": 5
}
