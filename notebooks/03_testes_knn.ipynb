{
 "cells": [
  {
   "cell_type": "markdown",
   "id": "3f96cd3c",
   "metadata": {},
   "source": [
    "## Versão para teste de KNN"
   ]
  },
  {
   "cell_type": "code",
   "execution_count": 2,
   "id": "a5b0a8d4",
   "metadata": {},
   "outputs": [],
   "source": [
    "# Importar dados\n",
    "from src.features.data_process import x_train, x_test, y_binary_test, y_binary_train"
   ]
  }
 ],
 "metadata": {
  "kernelspec": {
   "display_name": "Python 3",
   "language": "python",
   "name": "python3"
  },
  "language_info": {
   "codemirror_mode": {
    "name": "ipython",
    "version": 3
   },
   "file_extension": ".py",
   "mimetype": "text/x-python",
   "name": "python",
   "nbconvert_exporter": "python",
   "pygments_lexer": "ipython3",
   "version": "3.12.2"
  }
 },
 "nbformat": 4,
 "nbformat_minor": 5
}
